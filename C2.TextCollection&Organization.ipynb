{
 "cells": [
  {
   "cell_type": "markdown",
   "metadata": {},
   "source": [
    "### Demo1-1"
   ]
  },
  {
   "cell_type": "code",
   "execution_count": 1,
   "metadata": {},
   "outputs": [
    {
     "name": "stdout",
     "output_type": "stream",
     "text": [
      "{\n",
      "  \"args\": {}, \n",
      "  \"headers\": {\n",
      "    \"Accept-Encoding\": \"identity\", \n",
      "    \"Host\": \"httpbin.org\", \n",
      "    \"User-Agent\": \"Python-urllib/3.6\", \n",
      "    \"X-Amzn-Trace-Id\": \"Root=1-61a4cfc7-5c940c746c59a1e54a2dd20d\"\n",
      "  }, \n",
      "  \"origin\": \"111.38.159.2\", \n",
      "  \"url\": \"http://httpbin.org/get\"\n",
      "}\n",
      "\n"
     ]
    }
   ],
   "source": [
    "# 导入请求模块\n",
    "import urllib.request\n",
    "# 向测试网站发起请求\n",
    "response = urllib.request.urlopen('http://httpbin.org/get')\n",
    "# 以utf-8编码形式对byte数据类型的网页源代码进行解码\n",
    "html = response.read().decode('utf-8')\n",
    "# html = response.read().decode()\n",
    "print(html)"
   ]
  },
  {
   "cell_type": "markdown",
   "metadata": {},
   "source": [
    "### Demo2-1"
   ]
  },
  {
   "cell_type": "code",
   "execution_count": 6,
   "metadata": {},
   "outputs": [
    {
     "name": "stdout",
     "output_type": "stream",
     "text": [
      "Full Mode: 我+来到+安徽+财经+财经大学+大学+学学+学学习+学习\n",
      "Accurate model: 我+来到+安徽+财经大学+学习\n",
      "Search engine model: 我+来到+安徽+财经+大学+财经大学+学习\n"
     ]
    }
   ],
   "source": [
    "import jieba\n",
    "# 全模式\n",
    "seg_list = jieba.cut(\"我来到安徽财经大学学习\", cut_all=True)\n",
    "print(\"Full Mode: \" + \"+\".join(seg_list))\n",
    "# 默认是精确模式\n",
    "seg_list = jieba.cut(\"我来到安徽财经大学学习\")  \n",
    "print(\"Accurate model: \" + \"+\".join(seg_list))\n",
    "# 搜索引擎模式\n",
    "seg_list = jieba.cut_for_search(\"我来到安徽财经大学学习\") \n",
    "print(\"Search engine model: \" + \"+\".join(seg_list))"
   ]
  },
  {
   "cell_type": "code",
   "execution_count": null,
   "metadata": {
    "collapsed": true
   },
   "outputs": [],
   "source": []
  }
 ],
 "metadata": {
  "kernelspec": {
   "display_name": "Python 3",
   "language": "python",
   "name": "python3"
  },
  "language_info": {
   "codemirror_mode": {
    "name": "ipython",
    "version": 3
   },
   "file_extension": ".py",
   "mimetype": "text/x-python",
   "name": "python",
   "nbconvert_exporter": "python",
   "pygments_lexer": "ipython3",
   "version": "3.6.3"
  },
  "toc": {
   "base_numbering": 1,
   "nav_menu": {},
   "number_sections": true,
   "sideBar": true,
   "skip_h1_title": false,
   "title_cell": "Table of Contents",
   "title_sidebar": "Contents",
   "toc_cell": false,
   "toc_position": {},
   "toc_section_display": true,
   "toc_window_display": false
  }
 },
 "nbformat": 4,
 "nbformat_minor": 2
}
