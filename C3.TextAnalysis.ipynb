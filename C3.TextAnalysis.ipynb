{
 "cells": [
  {
   "cell_type": "markdown",
   "metadata": {},
   "source": [
    "### 文本-词条矩阵"
   ]
  },
  {
   "cell_type": "code",
   "execution_count": 9,
   "metadata": {
    "collapsed": true
   },
   "outputs": [],
   "source": [
    "import jieba"
   ]
  },
  {
   "cell_type": "code",
   "execution_count": 18,
   "metadata": {
    "collapsed": true
   },
   "outputs": [],
   "source": [
    "d1 = \"安徽财经大学在蚌埠市.\"\n",
    "d2 = \"统计学专业是安徽财经大学建成的首批硕士点之一.\"\n",
    "d3 = \"安徽财经大学统计与应用数学学院由原安徽财经大学统计学系和信息与计算科学系合并而成.\"\n",
    "c_list = [\"安徽财经大学\", '统计与应用数学学院', '统计学系', '信息与计算科学系', \"统计学专业\"]\n",
    "for c in c_list:\n",
    "    jieba.add_word(c)\n",
    "res1 = jieba.cut(d1)\n",
    "res2 = jieba.cut(d2)\n",
    "res3 = jieba.cut(d3)\n",
    "\n",
    "d_list = [' '.join(res1), ' '.join(res2), ' '.join(res3)]"
   ]
  },
  {
   "cell_type": "code",
   "execution_count": 19,
   "metadata": {},
   "outputs": [
    {
     "data": {
      "text/plain": [
       "['安徽财经大学 在 蚌埠市 .',\n",
       " '统计学专业 是 安徽财经大学 建成 的 首批 硕士点 之一 .',\n",
       " '安徽财经大学 统计与应用数学学院 由原 安徽财经大学 统计学系 和 信息与计算科学系 合并 而成 .']"
      ]
     },
     "execution_count": 19,
     "metadata": {},
     "output_type": "execute_result"
    }
   ],
   "source": [
    "d_list"
   ]
  },
  {
   "cell_type": "code",
   "execution_count": 20,
   "metadata": {},
   "outputs": [
    {
     "data": {
      "text/plain": [
       "matrix([[0, 0, 0, 1, 0, 0, 0, 0, 0, 0, 0, 1, 0],\n",
       "        [1, 0, 0, 1, 1, 0, 1, 0, 1, 0, 0, 0, 1],\n",
       "        [0, 1, 1, 2, 0, 1, 0, 1, 0, 1, 1, 0, 0]], dtype=int64)"
      ]
     },
     "execution_count": 20,
     "metadata": {},
     "output_type": "execute_result"
    }
   ],
   "source": [
    "from sklearn.feature_extraction.text import CountVectorizer\n",
    "countvec = CountVectorizer() # 在两个以上文档中出现的才保留\n",
    "y = countvec.fit_transform(d_list)\n",
    "y.todense()"
   ]
  },
  {
   "cell_type": "code",
   "execution_count": 21,
   "metadata": {},
   "outputs": [
    {
     "data": {
      "text/plain": [
       "['之一',\n",
       " '信息与计算科学系',\n",
       " '合并',\n",
       " '安徽财经大学',\n",
       " '建成',\n",
       " '由原',\n",
       " '硕士点',\n",
       " '统计与应用数学学院',\n",
       " '统计学专业',\n",
       " '统计学系',\n",
       " '而成',\n",
       " '蚌埠市',\n",
       " '首批']"
      ]
     },
     "execution_count": 21,
     "metadata": {},
     "output_type": "execute_result"
    }
   ],
   "source": [
    "countvec.get_feature_names()"
   ]
  },
  {
   "cell_type": "code",
   "execution_count": 12,
   "metadata": {},
   "outputs": [
    {
     "name": "stdout",
     "output_type": "stream",
     "text": [
      "['安徽', '财经大学', '在', '安徽省', '蚌埠市']\n"
     ]
    }
   ],
   "source": [
    "# ['之一',\n",
    "#  '信息与计算科学系',\n",
    "#  '合并',\n",
    "#  '安徽财经大学',\n",
    "#  '建成',\n",
    "#  '由原',\n",
    "#  '硕士点',\n",
    "#  '统计与应用数学学院',\n",
    "#  '统计学专业',\n",
    "#  '统计学系',\n",
    "#  '而成',\n",
    "#  '蚌埠市',\n",
    "#  '首批']"
   ]
  },
  {
   "cell_type": "markdown",
   "metadata": {},
   "source": [
    "### 朴素贝叶斯"
   ]
  },
  {
   "cell_type": "code",
   "execution_count": 2,
   "metadata": {},
   "outputs": [
    {
     "name": "stderr",
     "output_type": "stream",
     "text": [
      "D:\\software\\Anaconda3\\lib\\site-packages\\ipykernel_launcher.py:4: ParserWarning: Falling back to the 'python' engine because the 'c' engine does not support regex separators (separators > 1 char and different from '\\s+' are interpreted as regex); you can avoid this warning by specifying engine='python'.\n",
      "  after removing the cwd from sys.path.\n"
     ]
    }
   ],
   "source": [
    "import pandas as pd\n",
    "# 有的环境配置下read_table出错，因此改用read_csv\n",
    "raw = pd.read_csv(\"data/金庸-射雕英雄传txt精校版.txt\",\n",
    "                  names = ['txt'], sep ='aaa', encoding =\"GBK\")"
   ]
  },
  {
   "cell_type": "code",
   "execution_count": 3,
   "metadata": {
    "collapsed": true
   },
   "outputs": [],
   "source": [
    "# 章节判断用变量预处理\n",
    "def m_head(tmpstr):\n",
    "    return tmpstr[:1]\n",
    "\n",
    "def m_mid(tmpstr):\n",
    "    return tmpstr.find(\"回 \")\n",
    "\n",
    "\n",
    "# 注意：下面的raw.txt指的是raw数据框中的txt变量列，对pandas不熟悉的学员请复习相关知识\n",
    "raw['head'] = raw.txt.apply(m_head)\n",
    "raw['mid'] = raw.txt.apply(m_mid)\n",
    "raw['len'] = raw.txt.apply(len)"
   ]
  },
  {
   "cell_type": "code",
   "execution_count": 4,
   "metadata": {
    "collapsed": true
   },
   "outputs": [],
   "source": [
    "# 章节判断\n",
    "chapnum = 0\n",
    "for i in range(len(raw)):\n",
    "    if raw['head'][i] == \"第\" and raw['mid'][i] > 0 and raw['len'][i] < 30 :\n",
    "        chapnum += 1\n",
    "    if chapnum >= 40 and raw['txt'][i] == \"附录一：成吉思汗家族\" :\n",
    "        chapnum = 0\n",
    "    raw.loc[i, 'chap'] = chapnum\n",
    "    \n",
    "# 删除临时变量，这里必须删除，否则后续sum函数处会出错\n",
    "del raw['head']\n",
    "del raw['mid']\n",
    "del raw['len']"
   ]
  },
  {
   "cell_type": "code",
   "execution_count": 26,
   "metadata": {},
   "outputs": [
    {
     "data": {
      "text/html": [
       "<div>\n",
       "<style>\n",
       "    .dataframe thead tr:only-child th {\n",
       "        text-align: right;\n",
       "    }\n",
       "\n",
       "    .dataframe thead th {\n",
       "        text-align: left;\n",
       "    }\n",
       "\n",
       "    .dataframe tbody tr th {\n",
       "        vertical-align: top;\n",
       "    }\n",
       "</style>\n",
       "<table border=\"1\" class=\"dataframe\">\n",
       "  <thead>\n",
       "    <tr style=\"text-align: right;\">\n",
       "      <th></th>\n",
       "      <th>txt</th>\n",
       "      <th>chap</th>\n",
       "    </tr>\n",
       "  </thead>\n",
       "  <tbody>\n",
       "    <tr>\n",
       "      <th>0</th>\n",
       "      <td>全本全集精校小说尽在：http://www.yimuhe.com/u/anglewing26...</td>\n",
       "      <td>0.0</td>\n",
       "    </tr>\n",
       "    <tr>\n",
       "      <th>1</th>\n",
       "      <td>更多资源下载：http://qqzone.ctdisk.com</td>\n",
       "      <td>0.0</td>\n",
       "    </tr>\n",
       "    <tr>\n",
       "      <th>2</th>\n",
       "      <td>※声明：本电子书仅供读者预览,请在下载24小时内删除，不得用作商业用途；如果喜欢请购买正版图书！※</td>\n",
       "      <td>0.0</td>\n",
       "    </tr>\n",
       "    <tr>\n",
       "      <th>3</th>\n",
       "      <td>------------------------------------------</td>\n",
       "      <td>0.0</td>\n",
       "    </tr>\n",
       "    <tr>\n",
       "      <th>4</th>\n",
       "      <td>“金庸作品集”新序</td>\n",
       "      <td>0.0</td>\n",
       "    </tr>\n",
       "  </tbody>\n",
       "</table>\n",
       "</div>"
      ],
      "text/plain": [
       "                                                 txt  chap\n",
       "0  全本全集精校小说尽在：http://www.yimuhe.com/u/anglewing26...   0.0\n",
       "1                    更多资源下载：http://qqzone.ctdisk.com   0.0\n",
       "2  ※声明：本电子书仅供读者预览,请在下载24小时内删除，不得用作商业用途；如果喜欢请购买正版图书！※   0.0\n",
       "3         ------------------------------------------   0.0\n",
       "4                                          “金庸作品集”新序   0.0"
      ]
     },
     "execution_count": 26,
     "metadata": {},
     "output_type": "execute_result"
    }
   ],
   "source": [
    "raw.head()"
   ]
  },
  {
   "cell_type": "code",
   "execution_count": 36,
   "metadata": {},
   "outputs": [
    {
     "name": "stdout",
     "output_type": "stream",
     "text": [
      "355\n"
     ]
    },
    {
     "data": {
      "text/html": [
       "<div>\n",
       "<style>\n",
       "    .dataframe thead tr:only-child th {\n",
       "        text-align: right;\n",
       "    }\n",
       "\n",
       "    .dataframe thead th {\n",
       "        text-align: left;\n",
       "    }\n",
       "\n",
       "    .dataframe tbody tr th {\n",
       "        vertical-align: top;\n",
       "    }\n",
       "</style>\n",
       "<table border=\"1\" class=\"dataframe\">\n",
       "  <thead>\n",
       "    <tr style=\"text-align: right;\">\n",
       "      <th></th>\n",
       "      <th>txt</th>\n",
       "      <th>chap</th>\n",
       "    </tr>\n",
       "  </thead>\n",
       "  <tbody>\n",
       "    <tr>\n",
       "      <th>0</th>\n",
       "      <td>钱塘江浩浩江水，日日夜夜无穷无休的从两浙西路临安府牛家村边绕过，东流入海。江畔一排数十株乌柏...</td>\n",
       "      <td>1.0</td>\n",
       "    </tr>\n",
       "    <tr>\n",
       "      <th>1</th>\n",
       "      <td>那说话人将木板敲了几下，说道：“这首七言诗，说的是兵火过后，原来的家家户户，都变成了断墙残瓦...</td>\n",
       "      <td>1.0</td>\n",
       "    </tr>\n",
       "    <tr>\n",
       "      <th>2</th>\n",
       "      <td>“叶老汉和叶妈妈吓得呆了，扑将上去，搂住了儿子的尸体，放声大哭。那长官提起狼牙棒，一棒一个，...</td>\n",
       "      <td>1.0</td>\n",
       "    </tr>\n",
       "    <tr>\n",
       "      <th>3</th>\n",
       "      <td>“可是那金兵占了我大宋天下，杀人放火，奸淫掳掠，无恶不作，却又不见他遭到什么报应。只怪我大宋...</td>\n",
       "      <td>1.0</td>\n",
       "    </tr>\n",
       "    <tr>\n",
       "      <th>4</th>\n",
       "      <td>村民中走出一个二十来岁的大汉，说道：“张先生，你可是从北方来吗？”说的是北方口音。张十五见他...</td>\n",
       "      <td>1.0</td>\n",
       "    </tr>\n",
       "  </tbody>\n",
       "</table>\n",
       "</div>"
      ],
      "text/plain": [
       "                                                 txt  chap\n",
       "0  钱塘江浩浩江水，日日夜夜无穷无休的从两浙西路临安府牛家村边绕过，东流入海。江畔一排数十株乌柏...   1.0\n",
       "1  那说话人将木板敲了几下，说道：“这首七言诗，说的是兵火过后，原来的家家户户，都变成了断墙残瓦...   1.0\n",
       "2  “叶老汉和叶妈妈吓得呆了，扑将上去，搂住了儿子的尸体，放声大哭。那长官提起狼牙棒，一棒一个，...   1.0\n",
       "3  “可是那金兵占了我大宋天下，杀人放火，奸淫掳掠，无恶不作，却又不见他遭到什么报应。只怪我大宋...   1.0\n",
       "4  村民中走出一个二十来岁的大汉，说道：“张先生，你可是从北方来吗？”说的是北方口音。张十五见他...   1.0"
      ]
     },
     "execution_count": 36,
     "metadata": {},
     "output_type": "execute_result"
    }
   ],
   "source": [
    "# 从原始语料df中提取出所需的前两章段落\n",
    "raw12 = raw[raw.chap.isin([1,2,3])]\n",
    "raw12ana = raw12.iloc[list(raw12.txt.apply(len) > 100), :] # 只使用超过50字的段落\n",
    "raw12ana.reset_index(drop = True, inplace = True)\n",
    "print(len(raw12ana))\n",
    "raw12ana.head()"
   ]
  },
  {
   "cell_type": "code",
   "execution_count": 37,
   "metadata": {},
   "outputs": [
    {
     "name": "stderr",
     "output_type": "stream",
     "text": [
      "D:\\software\\Anaconda3\\lib\\site-packages\\ipykernel_launcher.py:5: SettingWithCopyWarning: \n",
      "A value is trying to be set on a copy of a slice from a DataFrame.\n",
      "Try using .loc[row_indexer,col_indexer] = value instead\n",
      "\n",
      "See the caveats in the documentation: http://pandas.pydata.org/pandas-docs/stable/indexing.html#indexing-view-versus-copy\n",
      "  \"\"\"\n"
     ]
    },
    {
     "data": {
      "text/html": [
       "<div>\n",
       "<style>\n",
       "    .dataframe thead tr:only-child th {\n",
       "        text-align: right;\n",
       "    }\n",
       "\n",
       "    .dataframe thead th {\n",
       "        text-align: left;\n",
       "    }\n",
       "\n",
       "    .dataframe tbody tr th {\n",
       "        vertical-align: top;\n",
       "    }\n",
       "</style>\n",
       "<table border=\"1\" class=\"dataframe\">\n",
       "  <thead>\n",
       "    <tr style=\"text-align: right;\">\n",
       "      <th></th>\n",
       "      <th>txt</th>\n",
       "      <th>chap</th>\n",
       "      <th>cleantxt</th>\n",
       "    </tr>\n",
       "  </thead>\n",
       "  <tbody>\n",
       "    <tr>\n",
       "      <th>0</th>\n",
       "      <td>钱塘江浩浩江水，日日夜夜无穷无休的从两浙西路临安府牛家村边绕过，东流入海。江畔一排数十株乌柏...</td>\n",
       "      <td>1.0</td>\n",
       "      <td>钱塘江 浩浩 江水 ， 日日夜夜 无穷 无休 的 从 两 浙西 路 临安 府 牛家村 边 绕...</td>\n",
       "    </tr>\n",
       "    <tr>\n",
       "      <th>1</th>\n",
       "      <td>那说话人将木板敲了几下，说道：“这首七言诗，说的是兵火过后，原来的家家户户，都变成了断墙残瓦...</td>\n",
       "      <td>1.0</td>\n",
       "      <td>那 说话 人 将 木板 敲 了 几下 ， 说道 ： “ 这首 七言诗 ， 说 的 是 兵火 ...</td>\n",
       "    </tr>\n",
       "    <tr>\n",
       "      <th>2</th>\n",
       "      <td>“叶老汉和叶妈妈吓得呆了，扑将上去，搂住了儿子的尸体，放声大哭。那长官提起狼牙棒，一棒一个，...</td>\n",
       "      <td>1.0</td>\n",
       "      <td>“ 叶老汉 和 叶 妈妈 吓 得 呆 了 ， 扑 将 上去 ， 搂住 了 儿子 的 尸体 ，...</td>\n",
       "    </tr>\n",
       "    <tr>\n",
       "      <th>3</th>\n",
       "      <td>“可是那金兵占了我大宋天下，杀人放火，奸淫掳掠，无恶不作，却又不见他遭到什么报应。只怪我大宋...</td>\n",
       "      <td>1.0</td>\n",
       "      <td>“ 可是 那金兵 占 了 我 大宋 天下 ， 杀人放火 ， 奸淫掳掠 ， 无恶不作 ， 却 ...</td>\n",
       "    </tr>\n",
       "    <tr>\n",
       "      <th>4</th>\n",
       "      <td>村民中走出一个二十来岁的大汉，说道：“张先生，你可是从北方来吗？”说的是北方口音。张十五见他...</td>\n",
       "      <td>1.0</td>\n",
       "      <td>村民 中 走出 一个二十 来 岁 的 大汉 ， 说道 ： “ 张 先生 ， 你 可是 从 北...</td>\n",
       "    </tr>\n",
       "  </tbody>\n",
       "</table>\n",
       "</div>"
      ],
      "text/plain": [
       "                                                 txt  chap  \\\n",
       "0  钱塘江浩浩江水，日日夜夜无穷无休的从两浙西路临安府牛家村边绕过，东流入海。江畔一排数十株乌柏...   1.0   \n",
       "1  那说话人将木板敲了几下，说道：“这首七言诗，说的是兵火过后，原来的家家户户，都变成了断墙残瓦...   1.0   \n",
       "2  “叶老汉和叶妈妈吓得呆了，扑将上去，搂住了儿子的尸体，放声大哭。那长官提起狼牙棒，一棒一个，...   1.0   \n",
       "3  “可是那金兵占了我大宋天下，杀人放火，奸淫掳掠，无恶不作，却又不见他遭到什么报应。只怪我大宋...   1.0   \n",
       "4  村民中走出一个二十来岁的大汉，说道：“张先生，你可是从北方来吗？”说的是北方口音。张十五见他...   1.0   \n",
       "\n",
       "                                            cleantxt  \n",
       "0  钱塘江 浩浩 江水 ， 日日夜夜 无穷 无休 的 从 两 浙西 路 临安 府 牛家村 边 绕...  \n",
       "1  那 说话 人 将 木板 敲 了 几下 ， 说道 ： “ 这首 七言诗 ， 说 的 是 兵火 ...  \n",
       "2  “ 叶老汉 和 叶 妈妈 吓 得 呆 了 ， 扑 将 上去 ， 搂住 了 儿子 的 尸体 ，...  \n",
       "3  “ 可是 那金兵 占 了 我 大宋 天下 ， 杀人放火 ， 奸淫掳掠 ， 无恶不作 ， 却 ...  \n",
       "4  村民 中 走出 一个二十 来 岁 的 大汉 ， 说道 ： “ 张 先生 ， 你 可是 从 北...  "
      ]
     },
     "execution_count": 37,
     "metadata": {},
     "output_type": "execute_result"
    }
   ],
   "source": [
    "# 分词和预处理\n",
    "import jieba\n",
    "\n",
    "cuttxt = lambda x: \" \".join(jieba.lcut(x)) # 这里不做任何清理工作，以保留情感词\n",
    "raw12ana[\"cleantxt\"] = raw12ana.txt.apply(cuttxt) \n",
    "raw12ana.head()"
   ]
  },
  {
   "cell_type": "code",
   "execution_count": 38,
   "metadata": {},
   "outputs": [
    {
     "data": {
      "text/plain": [
       "<355x7655 sparse matrix of type '<class 'numpy.int64'>'\n",
       "\twith 15729 stored elements in Compressed Sparse Row format>"
      ]
     },
     "execution_count": 38,
     "metadata": {},
     "output_type": "execute_result"
    }
   ],
   "source": [
    "from sklearn.feature_extraction.text import CountVectorizer\n",
    "countvec = CountVectorizer() \n",
    "\n",
    "wordmtx = countvec.fit_transform(raw12ana.cleantxt)\n",
    "wordmtx"
   ]
  },
  {
   "cell_type": "code",
   "execution_count": 39,
   "metadata": {
    "collapsed": true
   },
   "outputs": [],
   "source": [
    "# 作用：将数据集划分为 训练集和测试集\n",
    "from sklearn.model_selection import train_test_split\n",
    "\n",
    "x_train, x_test, y_train, y_test = train_test_split(wordmtx, raw12ana.chap, \n",
    "    test_size = 0.3, random_state = 111)"
   ]
  },
  {
   "cell_type": "code",
   "execution_count": 41,
   "metadata": {},
   "outputs": [
    {
     "data": {
      "text/plain": [
       "MultinomialNB(alpha=1.0, class_prior=None, fit_prior=True)"
      ]
     },
     "execution_count": 41,
     "metadata": {},
     "output_type": "execute_result"
    }
   ],
   "source": [
    "from sklearn import naive_bayes\n",
    "\n",
    "NBmodel = naive_bayes.MultinomialNB()\n",
    "# 拟合模型\n",
    "NBmodel.fit(x_train, y_train)"
   ]
  },
  {
   "cell_type": "code",
   "execution_count": 42,
   "metadata": {
    "collapsed": true
   },
   "outputs": [],
   "source": [
    "# 进行验证集预测\n",
    "# x_test\n",
    "# NBmodel.predict(x_test)"
   ]
  },
  {
   "cell_type": "code",
   "execution_count": 43,
   "metadata": {},
   "outputs": [
    {
     "name": "stdout",
     "output_type": "stream",
     "text": [
      "训练集： 1.0 ，验证集： 0.9065420560747663\n"
     ]
    }
   ],
   "source": [
    "# 预测准确率（给模型打分）\n",
    "print('训练集：', NBmodel.score(x_train, y_train), \n",
    "      '，验证集：', NBmodel.score(x_test, y_test))"
   ]
  },
  {
   "cell_type": "code",
   "execution_count": 44,
   "metadata": {
    "scrolled": true
   },
   "outputs": [
    {
     "name": "stdout",
     "output_type": "stream",
     "text": [
      "             precision    recall  f1-score   support\n",
      "\n",
      "        1.0       0.89      0.98      0.93        42\n",
      "        2.0       0.88      0.92      0.90        39\n",
      "        3.0       1.00      0.77      0.87        26\n",
      "\n",
      "avg / total       0.91      0.91      0.91       107\n",
      "\n"
     ]
    }
   ],
   "source": [
    "from sklearn.metrics import classification_report\n",
    "\n",
    "print(classification_report(y_test, NBmodel.predict(x_test)))"
   ]
  },
  {
   "cell_type": "markdown",
   "metadata": {},
   "source": [
    "### TF-IDF"
   ]
  },
  {
   "cell_type": "markdown",
   "metadata": {},
   "source": [
    "#### jieba实现"
   ]
  },
  {
   "cell_type": "code",
   "execution_count": 5,
   "metadata": {
    "collapsed": true
   },
   "outputs": [],
   "source": [
    "rawgrp = raw.groupby('chap')\n",
    "chapter = rawgrp.agg(sum) # 只有字符串列的情况下，sum函数自动转为合并字符串，对pandas不熟悉的学员请复习相关知识\n",
    "chapter = chapter[chapter.index != 0]"
   ]
  },
  {
   "cell_type": "code",
   "execution_count": 5,
   "metadata": {},
   "outputs": [
    {
     "data": {
      "text/html": [
       "<div>\n",
       "<style>\n",
       "    .dataframe thead tr:only-child th {\n",
       "        text-align: right;\n",
       "    }\n",
       "\n",
       "    .dataframe thead th {\n",
       "        text-align: left;\n",
       "    }\n",
       "\n",
       "    .dataframe tbody tr th {\n",
       "        vertical-align: top;\n",
       "    }\n",
       "</style>\n",
       "<table border=\"1\" class=\"dataframe\">\n",
       "  <thead>\n",
       "    <tr style=\"text-align: right;\">\n",
       "      <th></th>\n",
       "      <th>txt</th>\n",
       "    </tr>\n",
       "    <tr>\n",
       "      <th>chap</th>\n",
       "      <th></th>\n",
       "    </tr>\n",
       "  </thead>\n",
       "  <tbody>\n",
       "    <tr>\n",
       "      <th>1.0</th>\n",
       "      <td>第一回 风雪惊变钱塘江浩浩江水，日日夜夜无穷无休的从两浙西路临安府牛家村边绕过，东流入海。江...</td>\n",
       "    </tr>\n",
       "    <tr>\n",
       "      <th>2.0</th>\n",
       "      <td>第二回 江南七怪颜烈跨出房门，过道中一个中年士人拖着鞋皮，踢跶踢跶的直响，一路打着哈欠迎面过...</td>\n",
       "    </tr>\n",
       "    <tr>\n",
       "      <th>3.0</th>\n",
       "      <td>第三回 黄沙莽莽寺里僧众见焦木圆寂，尽皆悲哭。有的便为伤者包扎伤处，抬入客舍。忽听得巨钟下的...</td>\n",
       "    </tr>\n",
       "    <tr>\n",
       "      <th>4.0</th>\n",
       "      <td>第四回 黑风双煞完颜洪熙笑道：“好，再打他个痛快。”蒙古兵前哨报来：“王罕亲自前来迎接大金国...</td>\n",
       "    </tr>\n",
       "    <tr>\n",
       "      <th>5.0</th>\n",
       "      <td>第五回 弯弓射雕一行人下得山来，走不多时，忽听前面猛兽大吼声一阵阵传来。韩宝驹一提缰，胯下黄...</td>\n",
       "    </tr>\n",
       "  </tbody>\n",
       "</table>\n",
       "</div>"
      ],
      "text/plain": [
       "                                                    txt\n",
       "chap                                                   \n",
       "1.0   第一回 风雪惊变钱塘江浩浩江水，日日夜夜无穷无休的从两浙西路临安府牛家村边绕过，东流入海。江...\n",
       "2.0   第二回 江南七怪颜烈跨出房门，过道中一个中年士人拖着鞋皮，踢跶踢跶的直响，一路打着哈欠迎面过...\n",
       "3.0   第三回 黄沙莽莽寺里僧众见焦木圆寂，尽皆悲哭。有的便为伤者包扎伤处，抬入客舍。忽听得巨钟下的...\n",
       "4.0   第四回 黑风双煞完颜洪熙笑道：“好，再打他个痛快。”蒙古兵前哨报来：“王罕亲自前来迎接大金国...\n",
       "5.0   第五回 弯弓射雕一行人下得山来，走不多时，忽听前面猛兽大吼声一阵阵传来。韩宝驹一提缰，胯下黄..."
      ]
     },
     "execution_count": 5,
     "metadata": {},
     "output_type": "execute_result"
    }
   ],
   "source": [
    "chapter.head()"
   ]
  },
  {
   "cell_type": "code",
   "execution_count": 6,
   "metadata": {},
   "outputs": [
    {
     "name": "stderr",
     "output_type": "stream",
     "text": [
      "Building prefix dict from the default dictionary ...\n",
      "Loading model from cache C:\\Users\\guiya\\AppData\\Local\\Temp\\jieba.cache\n",
      "Loading model cost 0.472 seconds.\n",
      "Prefix dict has been built successfully.\n"
     ]
    },
    {
     "data": {
      "text/plain": [
       "['杨铁心', '包惜弱', '郭啸天', '颜烈', '丘处机']"
      ]
     },
     "execution_count": 6,
     "metadata": {},
     "output_type": "execute_result"
    }
   ],
   "source": [
    "import jieba\n",
    "import jieba.analyse\n",
    "\n",
    "# 注意：函数是在使用默认的TFIDF模型进行分析！\n",
    "jieba.analyse.extract_tags(chapter.txt[1], topK=5)"
   ]
  },
  {
   "cell_type": "code",
   "execution_count": 7,
   "metadata": {
    "scrolled": true
   },
   "outputs": [
    {
     "data": {
      "text/plain": [
       "[('杨铁心', 0.21886511509515091),\n",
       " ('包惜弱', 0.1685852913570757),\n",
       " ('郭啸天', 0.09908082913091291),\n",
       " ('颜烈', 0.05471627877378773),\n",
       " ('丘处机', 0.049556061537506184)]"
      ]
     },
     "execution_count": 7,
     "metadata": {},
     "output_type": "execute_result"
    }
   ],
   "source": [
    "# 返回权重值\n",
    "jieba.analyse.extract_tags(chapter.txt[1], withWeight = True, topK=5) "
   ]
  },
  {
   "cell_type": "code",
   "execution_count": 8,
   "metadata": {},
   "outputs": [
    {
     "data": {
      "text/plain": [
       "[('杨铁心', 0.24787133516800222),\n",
       " ('包惜弱', 0.1909279203321098),\n",
       " ('郭啸天', 0.11221202335308209),\n",
       " ('武官', 0.07034186538551414),\n",
       " ('颜烈', 0.061967833792000555)]"
      ]
     },
     "execution_count": 8,
     "metadata": {},
     "output_type": "execute_result"
    }
   ],
   "source": [
    "# 应用自定义词典,停用词库,IDF语料库\n",
    "jieba.load_userdict('金庸小说词库.txt')\n",
    "jieba.analyse.set_stop_words('停用词.txt')\n",
    "jieba.analyse.set_idf_path(\"idf.txt.big\")\n",
    "TFres = jieba.analyse.extract_tags(chapter.txt[1], withWeight = True)\n",
    "TFres[:5]"
   ]
  },
  {
   "cell_type": "markdown",
   "metadata": {
    "collapsed": true
   },
   "source": [
    "#### gensim实现"
   ]
  },
  {
   "cell_type": "code",
   "execution_count": 14,
   "metadata": {},
   "outputs": [
    {
     "data": {
      "text/plain": [
       "40"
      ]
     },
     "execution_count": 14,
     "metadata": {},
     "output_type": "execute_result"
    }
   ],
   "source": [
    "stoplist = list(pd.read_csv('data/停用词.txt', names = ['w'], sep = 'aaa', \n",
    "                            encoding = 'utf-8', engine='python').w)\n",
    "def m_cut(intxt):\n",
    "    return [ w for w in jieba.cut(intxt) \n",
    "            if w not in stoplist and len(w) > 1] \n",
    "# 文档分词及预处理  \n",
    "chaplist = [m_cut(w) for w in chapter.txt.iloc[:40]]\n",
    "len(chaplist)"
   ]
  },
  {
   "cell_type": "code",
   "execution_count": 15,
   "metadata": {
    "collapsed": true
   },
   "outputs": [],
   "source": [
    "from gensim import corpora, models  \n",
    "\n",
    "# 生成文档对应的字典\n",
    "dictionary = corpora.Dictionary(chaplist)\n",
    "# 生成词袋(bow)稀疏向量\n",
    "corpus = [dictionary.doc2bow(text) for text in chaplist] # 仍为list in list  "
   ]
  },
  {
   "cell_type": "code",
   "execution_count": 23,
   "metadata": {},
   "outputs": [
    {
     "name": "stdout",
     "output_type": "stream",
     "text": [
      "40\n"
     ]
    },
    {
     "data": {
      "text/plain": [
       "<gensim.interfaces.TransformedCorpus at 0x23815f545c0>"
      ]
     },
     "execution_count": 23,
     "metadata": {},
     "output_type": "execute_result"
    }
   ],
   "source": [
    "tfidf_model = models.TfidfModel(corpus) # 建立TF-IDF模型  \n",
    "corpus_tfidf = tfidf_model[corpus] # 对所需文档计算TF-IDF结果\n",
    "print(len(corpus_tfidf))\n",
    "corpus_tfidf"
   ]
  },
  {
   "cell_type": "code",
   "execution_count": 21,
   "metadata": {},
   "outputs": [
    {
     "data": {
      "text/plain": [
       "[(5, 0.005413658924382729),\n",
       " (8, 0.0006812911567749383),\n",
       " (9, 0.0004491589329306298),\n",
       " (10, 0.007745194916519192),\n",
       " (11, 0.00586281785731336)]"
      ]
     },
     "execution_count": 21,
     "metadata": {},
     "output_type": "execute_result"
    }
   ],
   "source": [
    "corpus_tfidf[1][:5] # 列出所需文档的TF-IDF计算结果"
   ]
  },
  {
   "cell_type": "code",
   "execution_count": 24,
   "metadata": {
    "collapsed": true
   },
   "outputs": [
    {
     "data": {
      "text/plain": [
       "{'一两天': 0,\n",
       " '一个': 1,\n",
       " '一个个': 2,\n",
       " '一个二十': 3,\n",
       " '一个多': 4,\n",
       " '一个月': 5,\n",
       " '一了百了': 6,\n",
       " '一事无成': 7,\n",
       " '一人': 8,\n",
       " '一件': 9,\n",
       " '一众': 10,\n",
       " '一伙': 11,\n",
       " '一会': 12,\n",
       " '一位': 13,\n",
       " '一倒': 14,\n",
       " '一兵': 15,\n",
       " '一具': 16,\n",
       " '一凛': 17,\n",
       " '一击': 18,\n",
       " '一刀': 19,\n",
       " '一前一后': 20,\n",
       " '一剑': 21,\n",
       " '一力': 22,\n",
       " '一动不动': 23,\n",
       " '一匹': 24,\n",
       " '一双': 25,\n",
       " '一变': 26,\n",
       " '一口': 27,\n",
       " '一句': 28,\n",
       " '一只': 29,\n",
       " '一名': 30,\n",
       " '一呆': 31,\n",
       " '一命呜呼': 32,\n",
       " '一哄而散': 33,\n",
       " '一团': 34,\n",
       " '一块': 35,\n",
       " '一堆': 36,\n",
       " '一塌糊涂': 37,\n",
       " '一声': 38,\n",
       " '一壶': 39,\n",
       " '一壶酒': 40,\n",
       " '一夜': 41,\n",
       " '一夫': 42,\n",
       " '一套': 43,\n",
       " '一如': 44,\n",
       " '一字': 45,\n",
       " '一室': 46,\n",
       " '一家': 47,\n",
       " '一对': 48,\n",
       " '一小': 49,\n",
       " '一层': 50,\n",
       " '一带': 51,\n",
       " '一年': 52,\n",
       " '一并': 53,\n",
       " '一应俱全': 54,\n",
       " '一座': 55,\n",
       " '一张': 56,\n",
       " '一彪': 57,\n",
       " '一心': 58,\n",
       " '一心一意': 59,\n",
       " '一急': 60,\n",
       " '一惊': 61,\n",
       " '一意': 62,\n",
       " '一手': 63,\n",
       " '一打': 64,\n",
       " '一把': 65,\n",
       " '一抖': 66,\n",
       " '一抹': 67,\n",
       " '一拉': 68,\n",
       " '一拍': 69,\n",
       " '一拐': 70,\n",
       " '一招': 71,\n",
       " '一排': 72,\n",
       " '一推': 73,\n",
       " '一摸': 74,\n",
       " '一撑': 75,\n",
       " '一斤': 76,\n",
       " '一新': 77,\n",
       " '一日': 78,\n",
       " '一早': 79,\n",
       " '一时之间': 80,\n",
       " '一望': 81,\n",
       " '一杆': 82,\n",
       " '一条': 83,\n",
       " '一杯': 84,\n",
       " '一松': 85,\n",
       " '一枝': 86,\n",
       " '一枪': 87,\n",
       " '一柄': 88,\n",
       " '一棒': 89,\n",
       " '一步步': 90,\n",
       " '一死': 91,\n",
       " '一段': 92,\n",
       " '一清二楚': 93,\n",
       " '一热': 94,\n",
       " '一物': 95,\n",
       " '一生': 96,\n",
       " '一男一女': 97,\n",
       " '一番': 98,\n",
       " '一百个': 99,\n",
       " '一百余': 100,\n",
       " '一百倍': 101,\n",
       " '一盘': 102,\n",
       " '一眼': 103,\n",
       " '一瞬间': 104,\n",
       " '一矛': 105,\n",
       " '一矮': 106,\n",
       " '一碗': 107,\n",
       " '一碟': 108,\n",
       " '一礼': 109,\n",
       " '一笑': 110,\n",
       " '一笔': 111,\n",
       " '一筹': 112,\n",
       " '一箭': 113,\n",
       " '一箭射': 114,\n",
       " '一箭射来': 115,\n",
       " '一箭直': 116,\n",
       " '一紧': 117,\n",
       " '一红': 118,\n",
       " '一缩': 119,\n",
       " '一群': 120,\n",
       " '一翻': 121,\n",
       " '一股': 122,\n",
       " '一臂之力': 123,\n",
       " '一行': 124,\n",
       " '一见': 125,\n",
       " '一记': 126,\n",
       " '一跃': 127,\n",
       " '一路': 128,\n",
       " '一跷': 129,\n",
       " '一身': 130,\n",
       " '一轮': 131,\n",
       " '一送': 132,\n",
       " '一道': 133,\n",
       " '一酸': 134,\n",
       " '一锭': 135,\n",
       " '一门': 136,\n",
       " '一闪': 137,\n",
       " '一间': 138,\n",
       " '一队': 139,\n",
       " '一阵': 140,\n",
       " '一阵子': 141,\n",
       " '一阵阵': 142,\n",
       " '一鞭': 143,\n",
       " '一顿': 144,\n",
       " '一齐': 145,\n",
       " '七八名': 146,\n",
       " '七十二路': 147,\n",
       " '七言诗': 148,\n",
       " '七里': 149,\n",
       " '万万': 150,\n",
       " '万分': 151,\n",
       " '万夫莫当': 152,\n",
       " '万户': 153,\n",
       " '丈夫': 154,\n",
       " '三下': 155,\n",
       " '三个': 156,\n",
       " '三人': 157,\n",
       " '三人望': 158,\n",
       " '三人释': 159,\n",
       " '三件': 160,\n",
       " '三具': 161,\n",
       " '三十': 162,\n",
       " '三只': 163,\n",
       " '三名': 164,\n",
       " '三尺': 165,\n",
       " '三年': 166,\n",
       " '三文': 167,\n",
       " '三斤': 168,\n",
       " '三杯': 169,\n",
       " '三枝': 170,\n",
       " '三百': 171,\n",
       " '三角': 172,\n",
       " '三道': 173,\n",
       " '上书': 174,\n",
       " '上刻': 175,\n",
       " '上前': 176,\n",
       " '上天': 177,\n",
       " '上头': 178,\n",
       " '上床': 179,\n",
       " '上染满': 180,\n",
       " '上次': 181,\n",
       " '上留': 182,\n",
       " '上马': 183,\n",
       " '下令': 184,\n",
       " '下冲': 185,\n",
       " '下属': 186,\n",
       " '下得': 187,\n",
       " '下沉': 188,\n",
       " '下肚': 189,\n",
       " '下见': 190,\n",
       " '下过': 191,\n",
       " '下酒': 192,\n",
       " '下首': 193,\n",
       " '下马': 194,\n",
       " '不三不四': 195,\n",
       " '不中用': 196,\n",
       " '不义之财': 197,\n",
       " '不争气': 198,\n",
       " '不似': 199,\n",
       " '不住': 200,\n",
       " '不假': 201,\n",
       " '不停': 202,\n",
       " '不出': 203,\n",
       " '不分胜负': 204,\n",
       " '不动': 205,\n",
       " '不去': 206,\n",
       " '不及': 207,\n",
       " '不合': 208,\n",
       " '不在意': 209,\n",
       " '不多时': 210,\n",
       " '不好': 211,\n",
       " '不好意思': 212,\n",
       " '不妙': 213,\n",
       " '不妥': 214,\n",
       " '不安': 215,\n",
       " '不属': 216,\n",
       " '不幸': 217,\n",
       " '不忍': 218,\n",
       " '不怕死': 219,\n",
       " '不想': 220,\n",
       " '不愿': 221,\n",
       " '不打紧': 222,\n",
       " '不拢': 223,\n",
       " '不收': 224,\n",
       " '不改': 225,\n",
       " '不整': 226,\n",
       " '不明': 227,\n",
       " '不明不白': 228,\n",
       " '不易': 229,\n",
       " '不曾有过': 230,\n",
       " '不来': 231,\n",
       " '不死': 232,\n",
       " '不活': 233,\n",
       " '不测': 234,\n",
       " '不灵': 235,\n",
       " '不理': 236,\n",
       " '不用': 237,\n",
       " '不睬': 238,\n",
       " '不知': 239,\n",
       " '不知去向': 240,\n",
       " '不破': 241,\n",
       " '不禁': 242,\n",
       " '不答': 243,\n",
       " '不约而同': 244,\n",
       " '不绝': 245,\n",
       " '不耐烦': 246,\n",
       " '不肯': 247,\n",
       " '不胜感激': 248,\n",
       " '不致': 249,\n",
       " '不要脸': 250,\n",
       " '不见': 251,\n",
       " '不觉': 252,\n",
       " '不让': 253,\n",
       " '不讲道理': 254,\n",
       " '不进': 255,\n",
       " '不错': 256,\n",
       " '不防': 257,\n",
       " '不附': 258,\n",
       " '不难': 259,\n",
       " '专害': 260,\n",
       " '专帮': 261,\n",
       " '专心': 262,\n",
       " '世上': 263,\n",
       " '世世': 264,\n",
       " '世世代代': 265,\n",
       " '世界': 266,\n",
       " '丘名': 267,\n",
       " '丘处机': 268,\n",
       " '丘道长': 269,\n",
       " '丛中': 270,\n",
       " '东南西北': 271,\n",
       " '东挑西': 272,\n",
       " '东村': 273,\n",
       " '东西': 274,\n",
       " '东谈西': 275,\n",
       " '东边': 276,\n",
       " '丝毫': 277,\n",
       " '丝米': 278,\n",
       " '丞相': 279,\n",
       " '丢下': 280,\n",
       " '两个': 281,\n",
       " '两人': 282,\n",
       " '两人同': 283,\n",
       " '两人谢': 284,\n",
       " '两件': 285,\n",
       " '两位': 286,\n",
       " '两兵': 287,\n",
       " '两匹马': 288,\n",
       " '两双': 289,\n",
       " '两句诗': 290,\n",
       " '两只': 291,\n",
       " '两名': 292,\n",
       " '两团': 293,\n",
       " '两国以': 294,\n",
       " '两声': 295,\n",
       " '两壶': 296,\n",
       " '两字': 297,\n",
       " '两家': 298,\n",
       " '两幅': 299,\n",
       " '两捆': 300,\n",
       " '两文': 301,\n",
       " '两旁': 302,\n",
       " '两杯': 303,\n",
       " '两柄': 304,\n",
       " '两株': 305,\n",
       " '两根': 306,\n",
       " '两步': 307,\n",
       " '两片': 308,\n",
       " '两胁': 309,\n",
       " '两间': 310,\n",
       " '严审': 311,\n",
       " '个个': 312,\n",
       " '中一勒': 313,\n",
       " '中一箭': 314,\n",
       " '中倒': 315,\n",
       " '中剑': 316,\n",
       " '中午': 317,\n",
       " '中原': 318,\n",
       " '中向': 319,\n",
       " '中国': 320,\n",
       " '中宿': 321,\n",
       " '中射出': 322,\n",
       " '中拐': 323,\n",
       " '中有': 324,\n",
       " '中添': 325,\n",
       " '中盗': 326,\n",
       " '中箭': 327,\n",
       " '中箭落马': 328,\n",
       " '中长': 329,\n",
       " '临危': 330,\n",
       " '临安': 331,\n",
       " '临阵': 332,\n",
       " '丹青': 333,\n",
       " '为交': 334,\n",
       " '为先': 335,\n",
       " '为国': 336,\n",
       " '为大宋': 337,\n",
       " '为己': 338,\n",
       " '为生': 339,\n",
       " '为难': 340,\n",
       " '为首': 341,\n",
       " '主人': 342,\n",
       " '主意': 343,\n",
       " '举凳': 344,\n",
       " '举刀': 345,\n",
       " '举刃': 346,\n",
       " '举动': 347,\n",
       " '举头': 348,\n",
       " '举杯': 349,\n",
       " '举枪': 350,\n",
       " '举止': 351,\n",
       " '举目无亲': 352,\n",
       " '举矛格开': 353,\n",
       " '举起': 354,\n",
       " '乃是': 355,\n",
       " '久经': 356,\n",
       " '久闻': 357,\n",
       " '义兄': 358,\n",
       " '义弟': 359,\n",
       " '义愤': 360,\n",
       " '义民': 361,\n",
       " '义气': 362,\n",
       " '义结金兰': 363,\n",
       " '之上': 364,\n",
       " '之下': 365,\n",
       " '之中': 366,\n",
       " '之事': 367,\n",
       " '之仇': 368,\n",
       " '之力': 369,\n",
       " '之功': 370,\n",
       " '之地': 371,\n",
       " '之士': 372,\n",
       " '之声': 373,\n",
       " '之外': 374,\n",
       " '之多': 375,\n",
       " '之弟': 376,\n",
       " '之心': 377,\n",
       " '之情': 378,\n",
       " '之意': 379,\n",
       " '之极': 380,\n",
       " '之气': 381,\n",
       " '之物': 382,\n",
       " '之状': 383,\n",
       " '之礼': 384,\n",
       " '之耻': 385,\n",
       " '之色': 386,\n",
       " '之辱': 387,\n",
       " '之间': 388,\n",
       " '之际': 389,\n",
       " '之高': 390,\n",
       " '乌墩': 391,\n",
       " '乌木': 392,\n",
       " '乍见': 393,\n",
       " '乐意': 394,\n",
       " '乔装改扮': 395,\n",
       " '乖宝': 396,\n",
       " '乘客': 397,\n",
       " '乙道': 398,\n",
       " '九泉': 399,\n",
       " '九泉之下': 400,\n",
       " '习练': 401,\n",
       " '乡下': 402,\n",
       " '乡下人': 403,\n",
       " '乡农': 404,\n",
       " '乡民': 405,\n",
       " '书写': 406,\n",
       " '书法': 407,\n",
       " '买来': 408,\n",
       " '乱世': 409,\n",
       " '乱枪': 410,\n",
       " '乱舞': 411,\n",
       " '乳腐': 412,\n",
       " '争斗': 413,\n",
       " '事乐成': 414,\n",
       " '事事': 415,\n",
       " '事发': 416,\n",
       " '事属': 417,\n",
       " '事情': 418,\n",
       " '二人': 419,\n",
       " '二位': 420,\n",
       " '二十': 421,\n",
       " '二十五万两': 422,\n",
       " '二十五万匹': 423,\n",
       " '二千余名': 424,\n",
       " '二升': 425,\n",
       " '二哥': 426,\n",
       " '二帝': 427,\n",
       " '二犯': 428,\n",
       " '于理': 429,\n",
       " '于色': 430,\n",
       " '互握': 431,\n",
       " '五个': 432,\n",
       " '五代': 433,\n",
       " '五六岁': 434,\n",
       " '五十': 435,\n",
       " '五只': 436,\n",
       " '五指': 437,\n",
       " '五枝': 438,\n",
       " '五行': 439,\n",
       " '五里': 440,\n",
       " '交交': 441,\n",
       " '交好': 442,\n",
       " '交由': 443,\n",
       " '交给': 444,\n",
       " '享天': 445,\n",
       " '京城': 446,\n",
       " '京师': 447,\n",
       " '京畿': 448,\n",
       " '亮晶晶': 449,\n",
       " '亲眼见到': 450,\n",
       " '人世': 451,\n",
       " '人众': 452,\n",
       " '人前': 453,\n",
       " '人吃人': 454,\n",
       " '人员': 455,\n",
       " '人堆': 456,\n",
       " '人声': 457,\n",
       " '人多': 458,\n",
       " '人大': 459,\n",
       " '人头': 460,\n",
       " '人心': 461,\n",
       " '人情': 462,\n",
       " '人拉到': 463,\n",
       " '人有旦夕祸福': 464,\n",
       " '人氏': 465,\n",
       " '人立': 466,\n",
       " '人肝': 467,\n",
       " '人行': 468,\n",
       " '人身': 469,\n",
       " '人面': 470,\n",
       " '仁慈': 471,\n",
       " '仇人': 472,\n",
       " '仇寇': 473,\n",
       " '今儿': 474,\n",
       " '今日': 475,\n",
       " '今晚': 476,\n",
       " '仍算': 477,\n",
       " '从人': 478,\n",
       " '从来未': 479,\n",
       " '从梦中': 480,\n",
       " '仓促': 481,\n",
       " '仔细': 482,\n",
       " '他四人': 483,\n",
       " '他来': 484,\n",
       " '他法': 485,\n",
       " '以北': 486,\n",
       " '以救义': 487,\n",
       " '以金人': 488,\n",
       " '仰天': 489,\n",
       " '任意': 490,\n",
       " '任用': 491,\n",
       " '份量': 492,\n",
       " '众人': 493,\n",
       " '众位': 494,\n",
       " '众兵': 495,\n",
       " '众兵举': 496,\n",
       " '众安': 497,\n",
       " '会同': 498,\n",
       " '会得': 499,\n",
       " '会见': 500,\n",
       " '会钞': 501,\n",
       " '传光宗': 502,\n",
       " '传到': 503,\n",
       " '传女': 504,\n",
       " '传子': 505,\n",
       " '传授': 506,\n",
       " '传来': 507,\n",
       " '传给': 508,\n",
       " '伤心': 509,\n",
       " '伤愈': 510,\n",
       " '伤痛': 511,\n",
       " '伸出': 512,\n",
       " '伸手': 513,\n",
       " '伸臂': 514,\n",
       " '似曾相识': 515,\n",
       " '似有': 516,\n",
       " '似盖': 517,\n",
       " '似要': 518,\n",
       " '似觉': 519,\n",
       " '似非': 520,\n",
       " '但剑刃': 521,\n",
       " '但觉': 522,\n",
       " '低下头': 523,\n",
       " '低声': 524,\n",
       " '低头': 525,\n",
       " '低语': 526,\n",
       " '住口': 527,\n",
       " '体惜': 528,\n",
       " '何不': 529,\n",
       " '何事': 530,\n",
       " '何年何': 531,\n",
       " '何方': 532,\n",
       " '何日': 533,\n",
       " '余下': 534,\n",
       " '余众': 535,\n",
       " '余党': 536,\n",
       " '作乱': 537,\n",
       " '作响': 538,\n",
       " '作怪': 539,\n",
       " '作恶': 540,\n",
       " '你别': 541,\n",
       " '你护': 542,\n",
       " '使不得': 543,\n",
       " '使个': 544,\n",
       " '使刀': 545,\n",
       " '使劲': 546,\n",
       " '使发': 547,\n",
       " '使者': 548,\n",
       " '侍卫': 549,\n",
       " '依稀': 550,\n",
       " '侠义': 551,\n",
       " '侠士': 552,\n",
       " '侧头望': 553,\n",
       " '侧过': 554,\n",
       " '侵犯': 555,\n",
       " '便似': 556,\n",
       " '便是': 557,\n",
       " '俊美': 558,\n",
       " '俊雅': 559,\n",
       " '保全': 560,\n",
       " '保护': 561,\n",
       " '信得过': 562,\n",
       " '信用': 563,\n",
       " '俯身': 564,\n",
       " '倏地': 565,\n",
       " '倒下': 566,\n",
       " '倒会': 567,\n",
       " '倒似': 568,\n",
       " '倒地': 569,\n",
       " '倒转': 570,\n",
       " '倒退': 571,\n",
       " '借住': 572,\n",
       " '假扮': 573,\n",
       " '做东': 574,\n",
       " '停箭': 575,\n",
       " '健步如飞': 576,\n",
       " '偷偷': 577,\n",
       " '偷眼': 578,\n",
       " '傍晚': 579,\n",
       " '傻傻': 580,\n",
       " '像是': 581,\n",
       " '僵尸': 582,\n",
       " '儿子': 583,\n",
       " '儿歌': 584,\n",
       " '兀自': 585,\n",
       " '兄弟': 586,\n",
       " '兄弟两人': 587,\n",
       " '兄弟二人': 588,\n",
       " '兄弟俩': 589,\n",
       " '充作': 590,\n",
       " '先前': 591,\n",
       " '先射': 592,\n",
       " '先得': 593,\n",
       " '先毙': 594,\n",
       " '先祖': 595,\n",
       " '先自': 596,\n",
       " '光宗': 597,\n",
       " '光彩': 598,\n",
       " '光景': 599,\n",
       " '光照': 600,\n",
       " '光鲜': 601,\n",
       " '克扣': 602,\n",
       " '克日': 603,\n",
       " '免得': 604,\n",
       " '兜截': 605,\n",
       " '入内': 606,\n",
       " '入寇': 607,\n",
       " '入怀': 608,\n",
       " '入房': 609,\n",
       " '入眼': 610,\n",
       " '入睡': 611,\n",
       " '全倒': 612,\n",
       " '全国': 613,\n",
       " '全复': 614,\n",
       " '全是': 615,\n",
       " '全没': 616,\n",
       " '全真': 617,\n",
       " '全身': 618,\n",
       " '八卦': 619,\n",
       " '八名': 620,\n",
       " '八拜': 621,\n",
       " '八月': 622,\n",
       " '八角形': 623,\n",
       " '公差': 624,\n",
       " '公文': 625,\n",
       " '公门': 626,\n",
       " '公鸡': 627,\n",
       " '六七十': 628,\n",
       " '六七名': 629,\n",
       " '六十年': 630,\n",
       " '六只': 631,\n",
       " '兴旺': 632,\n",
       " '兵丁': 633,\n",
       " '兵刃': 634,\n",
       " '兵卒': 635,\n",
       " '兵器': 636,\n",
       " '兵士': 637,\n",
       " '兵多将广': 638,\n",
       " '兵家': 639,\n",
       " '兵火': 640,\n",
       " '兵言欢': 641,\n",
       " '兵马': 642,\n",
       " '其时': 643,\n",
       " '养大': 644,\n",
       " '养满': 645,\n",
       " '兼修': 646,\n",
       " '内堂': 647,\n",
       " '内外': 648,\n",
       " '内室': 649,\n",
       " '内心': 650,\n",
       " '内称': 651,\n",
       " '内衣': 652,\n",
       " '再也': 653,\n",
       " '再切': 654,\n",
       " '再强': 655,\n",
       " '再战': 656,\n",
       " '再拉得': 657,\n",
       " '再放回': 658,\n",
       " '再斗': 659,\n",
       " '冒寒': 660,\n",
       " '冒险': 661,\n",
       " '冒雪': 662,\n",
       " '写字': 663,\n",
       " '写得': 664,\n",
       " '写道': 665,\n",
       " '军官': 666,\n",
       " '军民': 667,\n",
       " '军马': 668,\n",
       " '农家': 669,\n",
       " '冤枉': 670,\n",
       " '冰冷': 671,\n",
       " '冲上去': 672,\n",
       " '冲入': 673,\n",
       " '冲出': 674,\n",
       " '冲出重围': 675,\n",
       " '冲撞': 676,\n",
       " '冲散': 677,\n",
       " '冲杀': 678,\n",
       " '冲锋陷阵': 679,\n",
       " '冲风': 680,\n",
       " '决意': 681,\n",
       " '冷下来': 682,\n",
       " '冷似': 683,\n",
       " '冷气': 684,\n",
       " '冷汗': 685,\n",
       " '冷然': 686,\n",
       " '冷笑': 687,\n",
       " '冷箭': 688,\n",
       " '冷酒': 689,\n",
       " '冻死': 690,\n",
       " '凉气': 691,\n",
       " '减愁': 692,\n",
       " '凑趣': 693,\n",
       " '凛然': 694,\n",
       " '凝望': 695,\n",
       " '凝视着': 696,\n",
       " '几下': 697,\n",
       " '几个': 698,\n",
       " '几人': 699,\n",
       " '几分': 700,\n",
       " '几句': 701,\n",
       " '几句话': 702,\n",
       " '几只': 703,\n",
       " '几名': 704,\n",
       " '几圈': 705,\n",
       " '几块': 706,\n",
       " '几壶': 707,\n",
       " '几处': 708,\n",
       " '几天': 709,\n",
       " '几套': 710,\n",
       " '几手': 711,\n",
       " '几招': 712,\n",
       " '几捆': 713,\n",
       " '几日': 714,\n",
       " '几时休': 715,\n",
       " '几杯': 716,\n",
       " '几杯酒': 717,\n",
       " '几根': 718,\n",
       " '几次': 719,\n",
       " '几滴': 720,\n",
       " '几点': 721,\n",
       " '几首': 722,\n",
       " '凭据': 723,\n",
       " '凶徒': 724,\n",
       " '凶恶': 725,\n",
       " '凶手': 726,\n",
       " '凶狠': 727,\n",
       " '凶猛': 728,\n",
       " '凶险': 729,\n",
       " '出世': 730,\n",
       " '出了门': 731,\n",
       " '出剑': 732,\n",
       " '出力': 733,\n",
       " '出声': 734,\n",
       " '出外': 735,\n",
       " '出家人': 736,\n",
       " '出屋': 737,\n",
       " '出怀': 738,\n",
       " '出房': 739,\n",
       " '出手': 740,\n",
       " '出手不凡': 741,\n",
       " '出林': 742,\n",
       " '出枪': 743,\n",
       " '出洞': 744,\n",
       " '出神': 745,\n",
       " '出铁': 746,\n",
       " '出门': 747,\n",
       " '出鞘': 748,\n",
       " '击得': 749,\n",
       " '击杀': 750,\n",
       " '刀割': 751,\n",
       " '刀疤': 752,\n",
       " '分手': 753,\n",
       " '分明': 754,\n",
       " '分离': 755,\n",
       " '分辩': 756,\n",
       " '切开': 757,\n",
       " '切成': 758,\n",
       " '列成': 759,\n",
       " '刚一离': 760,\n",
       " '刚勇': 761,\n",
       " '刚猛': 762,\n",
       " '刚进': 763,\n",
       " '创口': 764,\n",
       " '初二': 765,\n",
       " '利箭': 766,\n",
       " '别中': 767,\n",
       " '别出去': 768,\n",
       " '别杀': 769,\n",
       " '别露': 770,\n",
       " '到府': 771,\n",
       " '到来': 772,\n",
       " '到此为止': 773,\n",
       " '刷刷': 774,\n",
       " '刺于': 775,\n",
       " '刺到': 776,\n",
       " '刺去': 777,\n",
       " '刺得': 778,\n",
       " '刺杀': 779,\n",
       " '刺来': 780,\n",
       " '刺进': 781,\n",
       " '刻着': 782,\n",
       " '前去': 783,\n",
       " '前堂': 784,\n",
       " '前往': 785,\n",
       " '前探': 786,\n",
       " '前日': 787,\n",
       " '前来': 788,\n",
       " '前胸': 789,\n",
       " '前足': 790,\n",
       " '剑光': 791,\n",
       " '剑刃': 792,\n",
       " '剑柄': 793,\n",
       " '剥开': 794,\n",
       " '剧烈': 795,\n",
       " '剧痛': 796,\n",
       " '剩下': 797,\n",
       " '剩乱': 798,\n",
       " '割开': 799,\n",
       " '力战': 800,\n",
       " '办理': 801,\n",
       " '功夫': 802,\n",
       " '加封': 803,\n",
       " '加快': 804,\n",
       " '加重': 805,\n",
       " '务农': 806,\n",
       " '动弹不得': 807,\n",
       " '动手': 808,\n",
       " '助战': 809,\n",
       " '劫盗': 810,\n",
       " '劲力': 811,\n",
       " '劳顿': 812,\n",
       " '劳驾': 813,\n",
       " '势众': 814,\n",
       " '势凶': 815,\n",
       " '势大': 816,\n",
       " '势头': 817,\n",
       " '势必': 818,\n",
       " '势道': 819,\n",
       " '勒马': 820,\n",
       " '勤王': 821,\n",
       " '勾结': 822,\n",
       " '包入': 823,\n",
       " '包家': 824,\n",
       " '包惜弱': 825,\n",
       " '包扎': 826,\n",
       " '包氏': 827,\n",
       " '包裹': 828,\n",
       " '包起': 829,\n",
       " '匈奴血': 830,\n",
       " '匕如飞': 831,\n",
       " '匕尖': 832,\n",
       " '匕首': 833,\n",
       " '化单': 834,\n",
       " '北伐': 835,\n",
       " '北宋': 836,\n",
       " '北方': 837,\n",
       " '北边': 838,\n",
       " '北面': 839,\n",
       " '北风': 840,\n",
       " '匝地': 841,\n",
       " '匪徒': 842,\n",
       " '匹空马': 843,\n",
       " '医伤': 844,\n",
       " '医卜': 845,\n",
       " '医治': 846,\n",
       " '医生': 847,\n",
       " '医道': 848,\n",
       " '十一年': 849,\n",
       " '十二年': 850,\n",
       " '十二月': 851,\n",
       " '十五道': 852,\n",
       " '十余': 853,\n",
       " '十余丈': 854,\n",
       " '十余具': 855,\n",
       " '十余名': 856,\n",
       " '十余枝': 857,\n",
       " '十余里': 858,\n",
       " '十六': 859,\n",
       " '十几两': 860,\n",
       " '十几个': 861,\n",
       " '十多天': 862,\n",
       " '十年': 863,\n",
       " '千千万万': 864,\n",
       " '千户': 865,\n",
       " '午后': 866,\n",
       " '午夜': 867,\n",
       " '半个': 868,\n",
       " '半分': 869,\n",
       " '半句': 870,\n",
       " '半块': 871,\n",
       " '半壁江山': 872,\n",
       " '半壶': 873,\n",
       " '半夜': 874,\n",
       " '半日': 875,\n",
       " '半晌': 876,\n",
       " '半碗': 877,\n",
       " '半身': 878,\n",
       " '半边': 879,\n",
       " '半铁': 880,\n",
       " '卓绝': 881,\n",
       " '单刀': 882,\n",
       " '卖酒': 883,\n",
       " '南下': 884,\n",
       " '南京': 885,\n",
       " '南宋': 886,\n",
       " '南面': 887,\n",
       " '博洽': 888,\n",
       " '占便宜': 889,\n",
       " '占定': 890,\n",
       " '卫州': 891,\n",
       " '危殆': 892,\n",
       " '即位': 893,\n",
       " '却之不恭': 894,\n",
       " '却是': 895,\n",
       " '卷起': 896,\n",
       " '卷轴': 897,\n",
       " '厉声': 898,\n",
       " '厉害': 899,\n",
       " '压根儿': 900,\n",
       " '厚厚的': 901,\n",
       " '原地': 902,\n",
       " '原本': 903,\n",
       " '厮打': 904,\n",
       " '去世': 905,\n",
       " '去关': 906,\n",
       " '去年': 907,\n",
       " '去路': 908,\n",
       " '又惊又喜': 909,\n",
       " '又扰': 910,\n",
       " '双戟': 911,\n",
       " '双手': 912,\n",
       " '双拐': 913,\n",
       " '双掌': 914,\n",
       " '双眉斜': 915,\n",
       " '双眼': 916,\n",
       " '双脚': 917,\n",
       " '双腿': 918,\n",
       " '双臂': 919,\n",
       " '双足': 920,\n",
       " '双颊': 921,\n",
       " '反觉': 922,\n",
       " '反贼': 923,\n",
       " '发作': 924,\n",
       " '发兵': 925,\n",
       " '发出': 926,\n",
       " '发喊': 927,\n",
       " '发毛': 928,\n",
       " '发觉': 929,\n",
       " '发足': 930,\n",
       " '叔叔': 931,\n",
       " '取个': 932,\n",
       " '取出': 933,\n",
       " '取过': 934,\n",
       " '受不了': 935,\n",
       " '受了伤': 936,\n",
       " '受伤': 937,\n",
       " '受痛': 938,\n",
       " '受缚': 939,\n",
       " '受苦': 940,\n",
       " '变化': 941,\n",
       " '变幻': 942,\n",
       " '变长': 943,\n",
       " '变黄': 944,\n",
       " '口中': 945,\n",
       " '口令': 946,\n",
       " '口合': 947,\n",
       " '口子': 948,\n",
       " '口来': 949,\n",
       " '口气': 950,\n",
       " '口苦': 951,\n",
       " '口音': 952,\n",
       " '古称': 953,\n",
       " '句句': 954,\n",
       " '句子': 955,\n",
       " '另一名': 956,\n",
       " '另有': 957,\n",
       " '叨扰': 958,\n",
       " '只不过': 959,\n",
       " '只会': 960,\n",
       " '只余一': 961,\n",
       " '只好': 962,\n",
       " '只射': 963,\n",
       " '只待': 964,\n",
       " '只得': 965,\n",
       " '只怪': 966,\n",
       " '只恨': 967,\n",
       " '只想': 968,\n",
       " '只管': 969,\n",
       " '只能': 970,\n",
       " '只见': 971,\n",
       " '只觉': 972,\n",
       " '只道': 973,\n",
       " '只须': 974,\n",
       " '只顾': 975,\n",
       " '叫作': 976,\n",
       " '叫喊': 977,\n",
       " '叫声': 978,\n",
       " '叫好': 979,\n",
       " '叫苦': 980,\n",
       " '叫醒': 981,\n",
       " '叫骂': 982,\n",
       " '可不': 983,\n",
       " '可不是': 984,\n",
       " '可别': 985,\n",
       " '可太': 986,\n",
       " '可怕': 987,\n",
       " '可怜': 988,\n",
       " '可怜见': 989,\n",
       " '可惜': 990,\n",
       " '可报': 991,\n",
       " '可用': 992,\n",
       " '可真': 993,\n",
       " '可避': 994,\n",
       " '可靠': 995,\n",
       " '右手': 996,\n",
       " '右拐': 997,\n",
       " '右掌': 998,\n",
       " '右膀': 999,\n",
       " ...}"
      ]
     },
     "execution_count": 24,
     "metadata": {},
     "output_type": "execute_result"
    }
   ],
   "source": [
    "# 列出字典内容\n",
    "# dictionary.token2id"
   ]
  },
  {
   "cell_type": "markdown",
   "metadata": {},
   "source": [
    "### 文档聚类"
   ]
  },
  {
   "cell_type": "code",
   "execution_count": 30,
   "metadata": {},
   "outputs": [
    {
     "data": {
      "text/plain": [
       "(40, 1)"
      ]
     },
     "execution_count": 30,
     "metadata": {},
     "output_type": "execute_result"
    }
   ],
   "source": [
    "# 为章节增加名称标签\n",
    "chapter.index = [raw.txt[raw.chap == i].iloc[0] for i in chapter.index]\n",
    "# chapter.head()\n",
    "chapter.shape"
   ]
  },
  {
   "cell_type": "code",
   "execution_count": 33,
   "metadata": {
    "collapsed": true
   },
   "outputs": [],
   "source": [
    "import jieba\n",
    "stoplist = list(pd.read_csv('停用词.txt', names = ['w'], sep = 'aaa', \n",
    "                            encoding = 'utf-8', engine='python').w)\n",
    "def m_cut(intxt):\n",
    "    return [ w for w in jieba.cut(intxt) \n",
    "            if w not in stoplist and len(w) > 1] \n",
    "cuttxt = lambda x: \" \".join(m_cut(x)) \n",
    "cleanchap = chapter.txt.apply(cuttxt) \n",
    "# cleanchap[:2]"
   ]
  },
  {
   "cell_type": "code",
   "execution_count": 34,
   "metadata": {},
   "outputs": [
    {
     "data": {
      "text/plain": [
       "<40x43680 sparse matrix of type '<class 'numpy.float64'>'\n",
       "\twith 129009 stored elements in Compressed Sparse Row format>"
      ]
     },
     "execution_count": 34,
     "metadata": {},
     "output_type": "execute_result"
    }
   ],
   "source": [
    "# 计算TF-IDF矩阵\n",
    "from sklearn.feature_extraction.text import CountVectorizer\n",
    "from sklearn.feature_extraction.text import TfidfTransformer\n",
    "\n",
    "vectorizer = CountVectorizer() \n",
    "wordmtx = vectorizer.fit_transform(cleanchap) # 将文本中的词语转换为词频矩阵  \n",
    "\n",
    "transformer = TfidfTransformer()  \n",
    "tfidf = transformer.fit_transform(wordmtx)  #基于词频矩阵计算TF-IDF值  \n",
    "tfidf"
   ]
  },
  {
   "cell_type": "code",
   "execution_count": 37,
   "metadata": {},
   "outputs": [
    {
     "name": "stdout",
     "output_type": "stream",
     "text": [
      "KMeans(algorithm='auto', copy_x=True, init='k-means++', max_iter=300,\n",
      "    n_clusters=4, n_init=10, n_jobs=1, precompute_distances='auto',\n",
      "    random_state=None, tol=0.0001, verbose=0)\n"
     ]
    },
    {
     "data": {
      "text/plain": [
       "(4, 43680)"
      ]
     },
     "execution_count": 37,
     "metadata": {},
     "output_type": "execute_result"
    }
   ],
   "source": [
    "# 进行聚类分析\n",
    "from sklearn.cluster import KMeans  \n",
    "\n",
    "clf = KMeans(n_clusters = 4)  \n",
    "s = clf.fit(tfidf)  \n",
    "print(s)  \n",
    "clf.cluster_centers_.shape"
   ]
  },
  {
   "cell_type": "code",
   "execution_count": 38,
   "metadata": {
    "scrolled": true
   },
   "outputs": [
    {
     "data": {
      "text/plain": [
       "array([1, 1, 3, 3, 3, 3, 1, 1, 1, 1, 1, 2, 1, 1, 2, 0, 0, 2, 2, 2, 2, 2,\n",
       "       2, 1, 1, 0, 0, 0, 0, 0, 0, 0, 0, 1, 2, 0, 0, 0, 0, 2])"
      ]
     },
     "execution_count": 38,
     "metadata": {},
     "output_type": "execute_result"
    }
   ],
   "source": [
    "clf.labels_"
   ]
  },
  {
   "cell_type": "markdown",
   "metadata": {},
   "source": [
    "### 主题建模"
   ]
  },
  {
   "cell_type": "code",
   "execution_count": 1,
   "metadata": {
    "collapsed": true
   },
   "outputs": [],
   "source": [
    "import pandas as pd\n",
    "# 设定分词及清理停用词函数\n",
    "# 熟悉Python的可以使用 open('stopWord.txt').readlines（） 获取停用词list，效率更高\n",
    "stoplist = list(pd.read_csv('停用词.txt', names = ['w'], sep = 'aaa', \n",
    "                            encoding = 'utf-8', engine='python').w)\n",
    "import jieba \n",
    "def m_cut(intxt):\n",
    "    return [ w for w in jieba.cut(intxt) \n",
    "            if w not in stoplist and len(w) > 1 ] "
   ]
  },
  {
   "cell_type": "code",
   "execution_count": 6,
   "metadata": {},
   "outputs": [
    {
     "name": "stderr",
     "output_type": "stream",
     "text": [
      "Building prefix dict from the default dictionary ...\n",
      "Loading model from cache C:\\Users\\guiya\\AppData\\Local\\Temp\\jieba.cache\n",
      "Loading model cost 0.492 seconds.\n",
      "Prefix dict has been built successfully.\n"
     ]
    }
   ],
   "source": [
    "# 生成分词清理后章节文本\n",
    "cleanchap = [ \" \".join(m_cut(w)) for w in chapter.txt] "
   ]
  },
  {
   "cell_type": "code",
   "execution_count": 7,
   "metadata": {},
   "outputs": [
    {
     "data": {
      "text/plain": [
       "<40x6535 sparse matrix of type '<class 'numpy.int64'>'\n",
       "\twith 72523 stored elements in Compressed Sparse Row format>"
      ]
     },
     "execution_count": 7,
     "metadata": {},
     "output_type": "execute_result"
    }
   ],
   "source": [
    "# 将文本中的词语转换为词频矩阵  \n",
    "from sklearn.feature_extraction.text import CountVectorizer\n",
    "\n",
    "countvec = CountVectorizer(min_df = 5) \n",
    "\n",
    "wordmtx = countvec.fit_transform(cleanchap) \n",
    "wordmtx"
   ]
  },
  {
   "cell_type": "code",
   "execution_count": 9,
   "metadata": {
    "collapsed": true
   },
   "outputs": [],
   "source": [
    "#基于词频矩阵X计算TF-IDF值  \n",
    "from sklearn.feature_extraction.text import TfidfTransformer\n",
    "\n",
    "transformer = TfidfTransformer()  \n",
    "tfidf = transformer.fit_transform(wordmtx)  "
   ]
  },
  {
   "cell_type": "code",
   "execution_count": 16,
   "metadata": {
    "collapsed": true
   },
   "outputs": [],
   "source": [
    "# sklearn 的lda实现\n",
    "# 设定LDA模型\n",
    "from sklearn.decomposition import LatentDirichletAllocation\n",
    "\n",
    "n_topics = 5\n",
    "ldamodel = LatentDirichletAllocation(n_components = n_topics)"
   ]
  },
  {
   "cell_type": "code",
   "execution_count": 17,
   "metadata": {},
   "outputs": [
    {
     "name": "stderr",
     "output_type": "stream",
     "text": [
      "D:\\software\\Anaconda3\\lib\\site-packages\\sklearn\\decomposition\\online_lda.py:536: DeprecationWarning: The default value for 'learning_method' will be changed from 'online' to 'batch' in the release 0.20. This warning was introduced in 0.18.\n",
      "  DeprecationWarning)\n"
     ]
    },
    {
     "data": {
      "text/plain": [
       "LatentDirichletAllocation(batch_size=128, doc_topic_prior=None,\n",
       "             evaluate_every=-1, learning_decay=0.7, learning_method=None,\n",
       "             learning_offset=10.0, max_doc_update_iter=100, max_iter=10,\n",
       "             mean_change_tol=0.001, n_components=5, n_jobs=1,\n",
       "             n_topics=None, perp_tol=0.1, random_state=None,\n",
       "             topic_word_prior=None, total_samples=1000000.0, verbose=0)"
      ]
     },
     "execution_count": 17,
     "metadata": {},
     "output_type": "execute_result"
    }
   ],
   "source": [
    "# 拟合LDA模型，注意这里使用的是原始wordmtx矩阵\n",
    "ldamodel.fit(wordmtx)"
   ]
  },
  {
   "cell_type": "code",
   "execution_count": 18,
   "metadata": {},
   "outputs": [
    {
     "name": "stdout",
     "output_type": "stream",
     "text": [
      "(5, 6535)\n"
     ]
    }
   ],
   "source": [
    "# 拟合后模型的实质\n",
    "print(ldamodel.components_.shape)\n",
    "# ldamodel.components_[:2]"
   ]
  },
  {
   "cell_type": "code",
   "execution_count": 19,
   "metadata": {
    "collapsed": true
   },
   "outputs": [],
   "source": [
    "# 主题词打印函数\n",
    "def print_top_words(model, feature_names, n_top_words):\n",
    "    for topic_idx, topic in enumerate(model.components_):\n",
    "        print(\"Topic #%d:\" % topic_idx)\n",
    "        print(\" \".join([feature_names[i] \n",
    "                        for i in topic.argsort()[:-n_top_words - 1:-1]]))\n",
    "    print()"
   ]
  },
  {
   "cell_type": "code",
   "execution_count": 22,
   "metadata": {},
   "outputs": [
    {
     "name": "stdout",
     "output_type": "stream",
     "text": [
      "Topic #0:\n",
      "郭靖 黄蓉 师父 说道 一个 周伯通 武功 黄药师 两人 心中\n",
      "Topic #1:\n",
      "铁木真 郭靖 丘处机 柯镇恶 一个 韩小莹 朱聪 韩宝驹 拖雷 段天德\n",
      "Topic #2:\n",
      "黄蓉 郭靖 师父 说道 梅超风 黄药师 一个 洪七公 武功 两人\n",
      "Topic #3:\n",
      "洪七公 郭靖 黄蓉 欧阳锋 黄药师 说道 欧阳克 师父 武功 两人\n",
      "Topic #4:\n",
      "郭靖 黄蓉 一个 说道 不知 一声 铁木真 师父 柯镇恶 黄药师\n",
      "\n"
     ]
    }
   ],
   "source": [
    "n_top_words = 10\n",
    "tf_feature_names = countvec.get_feature_names()\n",
    "print_top_words(ldamodel, tf_feature_names, n_top_words)"
   ]
  },
  {
   "cell_type": "code",
   "execution_count": 21,
   "metadata": {
    "collapsed": true
   },
   "outputs": [],
   "source": [
    "# Topic #0:\n",
    "# 郭靖 黄蓉 师父 说道 一个 周伯通 武功 黄药师 两人 心中\n",
    "# Topic #1:\n",
    "# 铁木真 郭靖 丘处机 柯镇恶 一个 韩小莹 朱聪 韩宝驹 拖雷 段天德\n",
    "# Topic #2:\n",
    "# 黄蓉 郭靖 师父 说道 梅超风 黄药师 一个 洪七公 武功 两人\n",
    "# Topic #3:\n",
    "# 洪七公 郭靖 黄蓉 欧阳锋 黄药师 说道 欧阳克 师父 武功 两人\n",
    "# Topic #4:\n",
    "# 郭靖 黄蓉 一个 说道 不知 一声 铁木真 师父 柯镇恶 黄药师"
   ]
  },
  {
   "cell_type": "markdown",
   "metadata": {
    "collapsed": true
   },
   "source": [
    "### 情感分析"
   ]
  },
  {
   "cell_type": "markdown",
   "metadata": {},
   "source": [
    "#### 基于词袋模型"
   ]
  },
  {
   "cell_type": "code",
   "execution_count": 40,
   "metadata": {},
   "outputs": [
    {
     "data": {
      "text/plain": [
       "(20748, 2)"
      ]
     },
     "execution_count": 40,
     "metadata": {},
     "output_type": "execute_result"
    }
   ],
   "source": [
    "# 读入原始数据集\n",
    "import pandas as pd\n",
    "\n",
    "dfpos = pd.read_excel(\"data/购物评论.xlsx\", sheet_name = \"正向\", header=None)\n",
    "dfpos['y'] = 1\n",
    "dfneg = pd.read_excel(\"data/购物评论.xlsx\", sheet_name = \"负向\", header=None)\n",
    "dfneg['y'] = 0\n",
    "df0 = dfpos.append(dfneg, ignore_index = True)\n",
    "df0.shape"
   ]
  },
  {
   "cell_type": "code",
   "execution_count": 41,
   "metadata": {},
   "outputs": [
    {
     "data": {
      "text/html": [
       "<div>\n",
       "<style>\n",
       "    .dataframe thead tr:only-child th {\n",
       "        text-align: right;\n",
       "    }\n",
       "\n",
       "    .dataframe thead th {\n",
       "        text-align: left;\n",
       "    }\n",
       "\n",
       "    .dataframe tbody tr th {\n",
       "        vertical-align: top;\n",
       "    }\n",
       "</style>\n",
       "<table border=\"1\" class=\"dataframe\">\n",
       "  <thead>\n",
       "    <tr style=\"text-align: right;\">\n",
       "      <th></th>\n",
       "      <th>0</th>\n",
       "      <th>y</th>\n",
       "      <th>cleantxt</th>\n",
       "    </tr>\n",
       "  </thead>\n",
       "  <tbody>\n",
       "    <tr>\n",
       "      <th>0</th>\n",
       "      <td>感觉用这个手机下载MP3听很方便，用T-Flash卡装上歌，就可以当一个小MP3用了，很不错...</td>\n",
       "      <td>1</td>\n",
       "      <td>感觉 用 这个 手机 下载 MP3 听 很 方便 ， 用 T - Flash 卡装 上 歌 ...</td>\n",
       "    </tr>\n",
       "    <tr>\n",
       "      <th>1</th>\n",
       "      <td>外观美观，速度也不错。上面一排触摸键挺实用。应该对得起这个价格。当然再降点大家肯定也不反对。...</td>\n",
       "      <td>1</td>\n",
       "      <td>外观 美观 ， 速度 也 不错 。 上面 一排 触摸 键 挺 实用 。 应该 对得起 这个 ...</td>\n",
       "    </tr>\n",
       "    <tr>\n",
       "      <th>2</th>\n",
       "      <td>我刚拿到书，也没有仔细阅读，就是粗粗的翻了点，觉得还行。里面是蓝黑两种颜色的，有些单词的下面...</td>\n",
       "      <td>1</td>\n",
       "      <td>我刚 拿到 书 ， 也 没有 仔细阅读 ， 就是 粗粗 的 翻 了 点 ， 觉得 还 行 。...</td>\n",
       "    </tr>\n",
       "    <tr>\n",
       "      <th>3</th>\n",
       "      <td>对于二胡曲的精选，应该出版一个系列套装，可分别出售，单独购买。精品二胡曲是有年代和阶段性的，...</td>\n",
       "      <td>1</td>\n",
       "      <td>对于 二胡曲 的 精选 ， 应该 出版 一个系列 套装 ， 可 分别 出售 ， 单独 购买 ...</td>\n",
       "    </tr>\n",
       "    <tr>\n",
       "      <th>4</th>\n",
       "      <td>用了一年半的 e680 终于送小偷了。刚刚买了一台e850，用了三天，说说我自己的感受。1：...</td>\n",
       "      <td>1</td>\n",
       "      <td>用 了 一年 半 的   e680   终于 送 小偷 了 。 刚刚 买 了 一台 e850...</td>\n",
       "    </tr>\n",
       "  </tbody>\n",
       "</table>\n",
       "</div>"
      ],
      "text/plain": [
       "                                                   0  y  \\\n",
       "0  感觉用这个手机下载MP3听很方便，用T-Flash卡装上歌，就可以当一个小MP3用了，很不错...  1   \n",
       "1  外观美观，速度也不错。上面一排触摸键挺实用。应该对得起这个价格。当然再降点大家肯定也不反对。...  1   \n",
       "2  我刚拿到书，也没有仔细阅读，就是粗粗的翻了点，觉得还行。里面是蓝黑两种颜色的，有些单词的下面...  1   \n",
       "3  对于二胡曲的精选，应该出版一个系列套装，可分别出售，单独购买。精品二胡曲是有年代和阶段性的，...  1   \n",
       "4  用了一年半的 e680 终于送小偷了。刚刚买了一台e850，用了三天，说说我自己的感受。1：...  1   \n",
       "\n",
       "                                            cleantxt  \n",
       "0  感觉 用 这个 手机 下载 MP3 听 很 方便 ， 用 T - Flash 卡装 上 歌 ...  \n",
       "1  外观 美观 ， 速度 也 不错 。 上面 一排 触摸 键 挺 实用 。 应该 对得起 这个 ...  \n",
       "2  我刚 拿到 书 ， 也 没有 仔细阅读 ， 就是 粗粗 的 翻 了 点 ， 觉得 还 行 。...  \n",
       "3  对于 二胡曲 的 精选 ， 应该 出版 一个系列 套装 ， 可 分别 出售 ， 单独 购买 ...  \n",
       "4  用 了 一年 半 的   e680   终于 送 小偷 了 。 刚刚 买 了 一台 e850...  "
      ]
     },
     "execution_count": 41,
     "metadata": {},
     "output_type": "execute_result"
    }
   ],
   "source": [
    "# 分词和预处理\n",
    "import jieba\n",
    "# 这里不做任何清理工作，以保留情感词\n",
    "cuttxt = lambda x: \" \".join(jieba.lcut(x))\n",
    "df0[\"cleantxt\"] = df0[0].apply(cuttxt) \n",
    "df0.head()"
   ]
  },
  {
   "cell_type": "code",
   "execution_count": 42,
   "metadata": {
    "collapsed": true
   },
   "outputs": [],
   "source": [
    "from sklearn.feature_extraction.text import CountVectorizer\n",
    "countvec = CountVectorizer(min_df = 10) # 出现10次以上的才纳入\n",
    "\n",
    "wordmtx = countvec.fit_transform(df0.cleantxt)"
   ]
  },
  {
   "cell_type": "code",
   "execution_count": 43,
   "metadata": {},
   "outputs": [
    {
     "data": {
      "text/plain": [
       "<1x8144 sparse matrix of type '<class 'numpy.int64'>'\n",
       "\twith 42 stored elements in Compressed Sparse Row format>"
      ]
     },
     "execution_count": 43,
     "metadata": {},
     "output_type": "execute_result"
    }
   ],
   "source": [
    "# 按照7：3的比例生成训练集和测试集\n",
    "from sklearn.model_selection import train_test_split\n",
    "x_train, x_test, y_train, y_test = train_test_split(\n",
    "    wordmtx, df0.y, test_size=0.3) # 可以直接使用稀疏矩阵格式\n",
    "x_train[0]"
   ]
  },
  {
   "cell_type": "code",
   "execution_count": 44,
   "metadata": {},
   "outputs": [
    {
     "name": "stdout",
     "output_type": "stream",
     "text": [
      "[LibSVM]"
     ]
    },
    {
     "data": {
      "text/plain": [
       "0.5004475659299042"
      ]
     },
     "execution_count": 44,
     "metadata": {},
     "output_type": "execute_result"
    }
   ],
   "source": [
    "# 使用SVM进行建模\n",
    "from sklearn.svm import SVC\n",
    "clf=SVC(kernel = 'rbf', verbose = True)\n",
    "clf.fit(x_train, y_train)\n",
    "# clf.score(x_train, y_train)"
   ]
  },
  {
   "cell_type": "code",
   "execution_count": 26,
   "metadata": {},
   "outputs": [
    {
     "name": "stdout",
     "output_type": "stream",
     "text": [
      "             precision    recall  f1-score   support\n",
      "\n",
      "          0       0.50      1.00      0.67      3107\n",
      "          1       0.00      0.00      0.00      3118\n",
      "\n",
      "avg / total       0.25      0.50      0.33      6225\n",
      "\n"
     ]
    },
    {
     "name": "stderr",
     "output_type": "stream",
     "text": [
      "D:\\software\\Anaconda3\\lib\\site-packages\\sklearn\\metrics\\classification.py:1135: UndefinedMetricWarning: Precision and F-score are ill-defined and being set to 0.0 in labels with no predicted samples.\n",
      "  'precision', 'predicted', average, warn_for)\n"
     ]
    }
   ],
   "source": [
    "# 对模型效果进行评估\n",
    "from sklearn.metrics import classification_report\n",
    "print(classification_report(y_test, clf.predict(x_test)))"
   ]
  },
  {
   "cell_type": "code",
   "execution_count": 13,
   "metadata": {},
   "outputs": [
    {
     "data": {
      "text/plain": [
       "0"
      ]
     },
     "execution_count": 13,
     "metadata": {},
     "output_type": "execute_result"
    }
   ],
   "source": [
    "clf.predict(countvec.transform([df0.cleantxt[0]]))[0]"
   ]
  },
  {
   "cell_type": "code",
   "execution_count": 47,
   "metadata": {
    "collapsed": true
   },
   "outputs": [],
   "source": [
    "# 模型预测\n",
    "import jieba\n",
    "\n",
    "def m_pred(string, countvec, model) : \n",
    "    words = \" \".join(jieba.lcut(string))\n",
    "    words_vecs = countvec.transform([words]) # 数据需要转换为可迭代格式\n",
    "     \n",
    "    result = model.predict(words_vecs)\n",
    "    \n",
    "    if int(result[0]) == 1:\n",
    "        print(string, \"：正向\")\n",
    "    else:\n",
    "        print(string, \"：负向\")\n",
    "        "
   ]
  },
  {
   "cell_type": "code",
   "execution_count": 48,
   "metadata": {},
   "outputs": [
    {
     "name": "stdout",
     "output_type": "stream",
     "text": [
      "分量十足，做工单位。确实不错，以前一直买华硕产品，第一次买微星的卡，真的很好，吉利推荐。 ：正向\n"
     ]
    }
   ],
   "source": [
    "comment = \"分量十足，做工单位。确实不错，以前一直买华硕产品，第一次买微星的卡，真的很好，吉利推荐。\"\n",
    "m_pred(comment, countvec, clf) "
   ]
  }
 ],
 "metadata": {
  "kernelspec": {
   "display_name": "Python 3",
   "language": "python",
   "name": "python3"
  },
  "language_info": {
   "codemirror_mode": {
    "name": "ipython",
    "version": 3
   },
   "file_extension": ".py",
   "mimetype": "text/x-python",
   "name": "python",
   "nbconvert_exporter": "python",
   "pygments_lexer": "ipython3",
   "version": "3.6.3"
  },
  "toc": {
   "base_numbering": 1,
   "nav_menu": {},
   "number_sections": true,
   "sideBar": true,
   "skip_h1_title": false,
   "title_cell": "Table of Contents",
   "title_sidebar": "Contents",
   "toc_cell": false,
   "toc_position": {
    "height": "calc(100% - 180px)",
    "left": "10px",
    "top": "150px",
    "width": "305px"
   },
   "toc_section_display": true,
   "toc_window_display": true
  }
 },
 "nbformat": 4,
 "nbformat_minor": 2
}
